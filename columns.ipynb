{
 "cells": [
  {
   "cell_type": "code",
   "execution_count": 1,
   "metadata": {},
   "outputs": [],
   "source": [
    "import sqlite3\n",
    "import pandas as pd\n",
    "import matplotlib.pyplot as plt\n",
    "import seaborn as sns\n",
    "\n",
    "# Create a connection to the SQLite database\n",
    "conn = sqlite3.connect(\"database.sqlite\")\n",
    "\n",
    "# List of tables to query\n",
    "tables = ['Country', 'League', 'Match', 'Player', 'Player_Attributes', 'Team', 'Team_Attributes']\n",
    "\n",
    "# Create independent DataFrames for each table\n",
    "df_country = pd.read_sql_query(\"SELECT * FROM Country\", conn)\n",
    "df_league = pd.read_sql_query(\"SELECT * FROM League\", conn)\n",
    "df_match = pd.read_sql_query(\"SELECT * FROM Match\", conn)\n",
    "df_player = pd.read_sql_query(\"SELECT * FROM Player\", conn)\n",
    "df_player_attributes = pd.read_sql_query(\"SELECT * FROM Player_Attributes\", conn)\n",
    "df_team = pd.read_sql_query(\"SELECT * FROM Team\", conn)\n",
    "df_team_attributes = pd.read_sql_query(\"SELECT * FROM Team_Attributes\", conn)\n",
    "\n",
    "# Close the database connection\n",
    "conn.close()"
   ]
  },
  {
   "cell_type": "code",
   "execution_count": 2,
   "metadata": {},
   "outputs": [
    {
     "name": "stdout",
     "output_type": "stream",
     "text": [
      "Country columns: Index(['id', 'name'], dtype='object')\n",
      "\n",
      "League columns: Index(['id', 'country_id', 'name'], dtype='object')\n",
      "\n",
      "Match columns: Index(['id', 'country_id', 'league_id', 'season', 'stage', 'date',\n",
      "       'match_api_id', 'home_team_api_id', 'away_team_api_id',\n",
      "       'home_team_goal',\n",
      "       ...\n",
      "       'SJA', 'VCH', 'VCD', 'VCA', 'GBH', 'GBD', 'GBA', 'BSH', 'BSD', 'BSA'],\n",
      "      dtype='object', length=115)\n",
      "\n",
      "Player columns: Index(['id', 'player_api_id', 'player_name', 'player_fifa_api_id', 'birthday',\n",
      "       'height', 'weight'],\n",
      "      dtype='object')\n",
      "\n",
      "Player_Attributes columns: Index(['id', 'player_fifa_api_id', 'player_api_id', 'date', 'overall_rating',\n",
      "       'potential', 'preferred_foot', 'attacking_work_rate',\n",
      "       'defensive_work_rate', 'crossing', 'finishing', 'heading_accuracy',\n",
      "       'short_passing', 'volleys', 'dribbling', 'curve', 'free_kick_accuracy',\n",
      "       'long_passing', 'ball_control', 'acceleration', 'sprint_speed',\n",
      "       'agility', 'reactions', 'balance', 'shot_power', 'jumping', 'stamina',\n",
      "       'strength', 'long_shots', 'aggression', 'interceptions', 'positioning',\n",
      "       'vision', 'penalties', 'marking', 'standing_tackle', 'sliding_tackle',\n",
      "       'gk_diving', 'gk_handling', 'gk_kicking', 'gk_positioning',\n",
      "       'gk_reflexes'],\n",
      "      dtype='object')\n",
      "\n",
      "Team columns: Index(['id', 'team_api_id', 'team_fifa_api_id', 'team_long_name',\n",
      "       'team_short_name'],\n",
      "      dtype='object')\n",
      "\n",
      "Team_Attributes columns: Index(['id', 'team_fifa_api_id', 'team_api_id', 'date', 'buildUpPlaySpeed',\n",
      "       'buildUpPlaySpeedClass', 'buildUpPlayDribbling',\n",
      "       'buildUpPlayDribblingClass', 'buildUpPlayPassing',\n",
      "       'buildUpPlayPassingClass', 'buildUpPlayPositioningClass',\n",
      "       'chanceCreationPassing', 'chanceCreationPassingClass',\n",
      "       'chanceCreationCrossing', 'chanceCreationCrossingClass',\n",
      "       'chanceCreationShooting', 'chanceCreationShootingClass',\n",
      "       'chanceCreationPositioningClass', 'defencePressure',\n",
      "       'defencePressureClass', 'defenceAggression', 'defenceAggressionClass',\n",
      "       'defenceTeamWidth', 'defenceTeamWidthClass',\n",
      "       'defenceDefenderLineClass'],\n",
      "      dtype='object')\n"
     ]
    }
   ],
   "source": [
    "# Print columns for all dataframes\n",
    "print(\"Country columns:\", df_country.columns)\n",
    "print(\"\\nLeague columns:\", df_league.columns)\n",
    "print(\"\\nMatch columns:\", df_match.columns)\n",
    "print(\"\\nPlayer columns:\", df_player.columns)\n",
    "print(\"\\nPlayer_Attributes columns:\", df_player_attributes.columns)\n",
    "print(\"\\nTeam columns:\", df_team.columns)\n",
    "print(\"\\nTeam_Attributes columns:\", df_team_attributes.columns)"
   ]
  },
  {
   "cell_type": "code",
   "execution_count": null,
   "metadata": {},
   "outputs": [],
   "source": []
  }
 ],
 "metadata": {
  "kernelspec": {
   "display_name": "aiml",
   "language": "python",
   "name": "python3"
  },
  "language_info": {
   "codemirror_mode": {
    "name": "ipython",
    "version": 3
   },
   "file_extension": ".py",
   "mimetype": "text/x-python",
   "name": "python",
   "nbconvert_exporter": "python",
   "pygments_lexer": "ipython3",
   "version": "3.9.6"
  }
 },
 "nbformat": 4,
 "nbformat_minor": 2
}
